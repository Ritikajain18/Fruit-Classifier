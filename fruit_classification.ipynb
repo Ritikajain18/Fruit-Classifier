{
 "cells": [
  {
   "cell_type": "code",
   "execution_count": 1,
   "metadata": {},
   "outputs": [
    {
     "name": "stderr",
     "output_type": "stream",
     "text": [
      "Using TensorFlow backend.\n"
     ]
    }
   ],
   "source": [
    "from keras.models import Sequential\n",
    "from keras.layers import Convolution2D\n",
    "from keras.layers import Flatten\n",
    "from keras.layers import Dense\n",
    "from keras.layers import MaxPooling2D"
   ]
  },
  {
   "cell_type": "code",
   "execution_count": 2,
   "metadata": {},
   "outputs": [],
   "source": [
    "# Step 1: Initialize CNN model\n",
    "classifier = Sequential()"
   ]
  },
  {
   "cell_type": "code",
   "execution_count": 3,
   "metadata": {
    "scrolled": false
   },
   "outputs": [],
   "source": [
    "# Step 2: Add 1st convolution layer and pooling layer (To reduce risk of overfitting)\n",
    "classifier.add(Convolution2D(32,(3,3), input_shape=(64,64,3), activation='relu'))\n",
    "classifier.add(MaxPooling2D(pool_size=(2,2)))"
   ]
  },
  {
   "cell_type": "code",
   "execution_count": 4,
   "metadata": {},
   "outputs": [],
   "source": [
    "# Step 3: Adding 2nd convolution layer and pooling layer\n",
    "classifier.add(Convolution2D(32,(3,3), activation='relu'))\n",
    "classifier.add(MaxPooling2D(pool_size=(2,2)))"
   ]
  },
  {
   "cell_type": "code",
   "execution_count": 5,
   "metadata": {},
   "outputs": [],
   "source": [
    "# Step 4: Flattening the Layers\n",
    "classifier.add(Flatten())"
   ]
  },
  {
   "cell_type": "code",
   "execution_count": 6,
   "metadata": {},
   "outputs": [],
   "source": [
    "#Step 5: Full Connection\n",
    "classifier.add(Dense(units=32, activation='relu'))\n",
    "classifier.add(Dense(units=64, activation='relu'))\n",
    "classifier.add(Dense(units=128, activation='relu'))\n",
    "classifier.add(Dense(units=256, activation='relu'))\n",
    "classifier.add(Dense(units=256, activation='relu'))\n",
    "classifier.add(Dense(units=6, activation='softmax')) \n",
    "# '6 because apart from predicting the fruit we'll also predict wetehr the fruit is fresh or rotten\"\n",
    "# softmax - used for categorical classification\n",
    "# sigmoid -  used for binary classification"
   ]
  },
  {
   "cell_type": "code",
   "execution_count": 7,
   "metadata": {},
   "outputs": [],
   "source": [
    "# Step 6: Compiling CNN\n",
    "# adam optimizer is used bcz it has an adaptive learning rate i.e. it automatically detects the errors and adjusts its learnng rate\n",
    "classifier.compile(optimizer='adam', loss='categorical_crossentropy', metrics=['accuracy'])"
   ]
  },
  {
   "cell_type": "code",
   "execution_count": 8,
   "metadata": {},
   "outputs": [],
   "source": [
    "# Step 7: Fitting CNN to images\n",
    "from keras.preprocessing.image import ImageDataGenerator"
   ]
  },
  {
   "cell_type": "code",
   "execution_count": 9,
   "metadata": {},
   "outputs": [],
   "source": [
    "train_datagen = ImageDataGenerator(rescale=1./255,   # to rescale the image in range of [0,1]\n",
    "                                  shear_range = 0.2, # to randomly shear the image\n",
    "                                  zoom_range= 0.2,   # to randomly zoom the image\n",
    "                                  horizontal_flip=True) #for randomly flipping half of the images"
   ]
  },
  {
   "cell_type": "code",
   "execution_count": 10,
   "metadata": {},
   "outputs": [],
   "source": [
    "test_datagen = ImageDataGenerator(rescale=1./255)"
   ]
  },
  {
   "cell_type": "code",
   "execution_count": 11,
   "metadata": {},
   "outputs": [],
   "source": [
    "# print(\"\\n Training the data...\")"
   ]
  },
  {
   "cell_type": "code",
   "execution_count": 12,
   "metadata": {},
   "outputs": [
    {
     "name": "stdout",
     "output_type": "stream",
     "text": [
      "Found 1212 images belonging to 6 classes.\n"
     ]
    }
   ],
   "source": [
    "training_set = train_datagen.flow_from_directory('train',\n",
    "                                                target_size=(64,64),\n",
    "                                                batch_size=12, #total no of batches\n",
    "                                                class_mode = 'categorical')"
   ]
  },
  {
   "cell_type": "code",
   "execution_count": 13,
   "metadata": {},
   "outputs": [
    {
     "name": "stdout",
     "output_type": "stream",
     "text": [
      "Found 300 images belonging to 6 classes.\n"
     ]
    }
   ],
   "source": [
    "test_set = test_datagen.flow_from_directory('test',\n",
    "                                                target_size=(64,64),\n",
    "                                                batch_size=12, #total no of batches\n",
    "                                                class_mode = 'categorical')"
   ]
  },
  {
   "cell_type": "code",
   "execution_count": 14,
   "metadata": {
    "scrolled": false
   },
   "outputs": [
    {
     "name": "stderr",
     "output_type": "stream",
     "text": [
      "C:\\Users\\Akansha Jain\\.conda\\envs\\tensorflow\\lib\\site-packages\\ipykernel_launcher.py:5: UserWarning: The semantics of the Keras 2 argument `steps_per_epoch` is not the same as the Keras 1 argument `samples_per_epoch`. `steps_per_epoch` is the number of batches to draw from the generator at each epoch. Basically steps_per_epoch = samples_per_epoch/batch_size. Similarly `nb_val_samples`->`validation_steps` and `val_samples`->`steps` arguments have changed. Update your method calls accordingly.\n",
      "  \"\"\"\n",
      "C:\\Users\\Akansha Jain\\.conda\\envs\\tensorflow\\lib\\site-packages\\ipykernel_launcher.py:5: UserWarning: Update your `fit_generator` call to the Keras 2 API: `fit_generator(<keras.pre..., validation_data=<keras.pre..., steps_per_epoch=101, epochs=20, validation_steps=300)`\n",
      "  \"\"\"\n"
     ]
    },
    {
     "name": "stdout",
     "output_type": "stream",
     "text": [
      "Epoch 1/20\n",
      "101/101 [==============================] - 115s 1s/step - loss: 1.5018 - accuracy: 0.3663 - val_loss: 0.9463 - val_accuracy: 0.5767\n",
      "Epoch 2/20\n",
      "101/101 [==============================] - 43s 422ms/step - loss: 1.0324 - accuracy: 0.5693 - val_loss: 0.6496 - val_accuracy: 0.6867\n",
      "Epoch 3/20\n",
      "101/101 [==============================] - 40s 399ms/step - loss: 0.8198 - accuracy: 0.6840 - val_loss: 0.5001 - val_accuracy: 0.7167\n",
      "Epoch 4/20\n",
      "101/101 [==============================] - 41s 405ms/step - loss: 0.6555 - accuracy: 0.7558 - val_loss: 0.3160 - val_accuracy: 0.7633\n",
      "Epoch 5/20\n",
      "101/101 [==============================] - 42s 415ms/step - loss: 0.5653 - accuracy: 0.7970 - val_loss: 0.8900 - val_accuracy: 0.7667\n",
      "Epoch 6/20\n",
      "101/101 [==============================] - 41s 407ms/step - loss: 0.5630 - accuracy: 0.8069 - val_loss: 0.4227 - val_accuracy: 0.7433\n",
      "Epoch 7/20\n",
      "101/101 [==============================] - 43s 429ms/step - loss: 0.5277 - accuracy: 0.8119 - val_loss: 0.3662 - val_accuracy: 0.8333\n",
      "Epoch 8/20\n",
      "101/101 [==============================] - 54s 534ms/step - loss: 0.4343 - accuracy: 0.8523 - val_loss: 0.2782 - val_accuracy: 0.8200\n",
      "Epoch 9/20\n",
      "101/101 [==============================] - 65s 644ms/step - loss: 0.4708 - accuracy: 0.8284 - val_loss: 0.4684 - val_accuracy: 0.8633\n",
      "Epoch 10/20\n",
      "101/101 [==============================] - 47s 464ms/step - loss: 0.4429 - accuracy: 0.8498 - val_loss: 0.2698 - val_accuracy: 0.8967\n",
      "Epoch 11/20\n",
      "101/101 [==============================] - 64s 632ms/step - loss: 0.3972 - accuracy: 0.8556 - val_loss: 0.3565 - val_accuracy: 0.8633\n",
      "Epoch 12/20\n",
      "101/101 [==============================] - 66s 658ms/step - loss: 0.3772 - accuracy: 0.8663 - val_loss: 0.4522 - val_accuracy: 0.9200\n",
      "Epoch 13/20\n",
      "101/101 [==============================] - 44s 431ms/step - loss: 0.3476 - accuracy: 0.8762 - val_loss: 0.0876 - val_accuracy: 0.8867\n",
      "Epoch 14/20\n",
      "101/101 [==============================] - 44s 435ms/step - loss: 0.3528 - accuracy: 0.8754 - val_loss: 0.2811 - val_accuracy: 0.9033\n",
      "Epoch 15/20\n",
      "101/101 [==============================] - 40s 400ms/step - loss: 0.3217 - accuracy: 0.8812 - val_loss: 0.1657 - val_accuracy: 0.8600\n",
      "Epoch 16/20\n",
      "101/101 [==============================] - 40s 397ms/step - loss: 0.2765 - accuracy: 0.9059 - val_loss: 0.6643 - val_accuracy: 0.8600\n",
      "Epoch 17/20\n",
      "101/101 [==============================] - 43s 426ms/step - loss: 0.3303 - accuracy: 0.8845 - val_loss: 0.4907 - val_accuracy: 0.8333\n",
      "Epoch 18/20\n",
      "101/101 [==============================] - 40s 399ms/step - loss: 0.3423 - accuracy: 0.8754 - val_loss: 0.6334 - val_accuracy: 0.8100\n",
      "Epoch 19/20\n",
      "101/101 [==============================] - 41s 402ms/step - loss: 0.3178 - accuracy: 0.8828 - val_loss: 0.1850 - val_accuracy: 0.8767\n",
      "Epoch 20/20\n",
      "101/101 [==============================] - 43s 423ms/step - loss: 0.2714 - accuracy: 0.9051 - val_loss: 0.1899 - val_accuracy: 0.8933\n"
     ]
    },
    {
     "data": {
      "text/plain": [
       "<keras.callbacks.callbacks.History at 0x20a3ab1acc0>"
      ]
     },
     "execution_count": 14,
     "metadata": {},
     "output_type": "execute_result"
    }
   ],
   "source": [
    "classifier.fit_generator(training_set,\n",
    "                        samples_per_epoch = 1212,  # total training images\n",
    "                        nb_epoch = 20,            # total no of epochs\n",
    "                        validation_data = test_set, #\n",
    "                        nb_val_samples = 300)  # total testing images"
   ]
  },
  {
   "cell_type": "code",
   "execution_count": 15,
   "metadata": {},
   "outputs": [],
   "source": [
    "#Step 8: saving model\n",
    "classifier.save(\"model.h5\")"
   ]
  },
  {
   "cell_type": "code",
   "execution_count": null,
   "metadata": {},
   "outputs": [],
   "source": []
  }
 ],
 "metadata": {
  "kernelspec": {
   "display_name": "Python 3",
   "language": "python",
   "name": "python3"
  },
  "language_info": {
   "codemirror_mode": {
    "name": "ipython",
    "version": 3
   },
   "file_extension": ".py",
   "mimetype": "text/x-python",
   "name": "python",
   "nbconvert_exporter": "python",
   "pygments_lexer": "ipython3",
   "version": "3.6.10"
  }
 },
 "nbformat": 4,
 "nbformat_minor": 4
}
